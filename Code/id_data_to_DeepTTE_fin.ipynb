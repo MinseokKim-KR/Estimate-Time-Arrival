{
 "cells": [
  {
   "cell_type": "code",
   "execution_count": 1,
   "metadata": {},
   "outputs": [],
   "source": [
    "import pandas as pd\n",
    "import numpy as np\n",
    "from haversine import haversine"
   ]
  },
  {
   "cell_type": "code",
   "execution_count": 2,
   "metadata": {},
   "outputs": [],
   "source": [
    "df = pd.read_csv('4_summary.txt')"
   ]
  },
  {
   "cell_type": "code",
   "execution_count": 3,
   "metadata": {},
   "outputs": [],
   "source": [
    "IDs = df['od_id'].values"
   ]
  },
  {
   "cell_type": "code",
   "execution_count": 4,
   "metadata": {},
   "outputs": [
    {
     "data": {
      "text/plain": [
       "'20190425B01703727'"
      ]
     },
     "execution_count": 4,
     "metadata": {},
     "output_type": "execute_result"
    }
   ],
   "source": [
    "IDs[30]"
   ]
  },
  {
   "cell_type": "code",
   "execution_count": 5,
   "metadata": {
    "scrolled": true
   },
   "outputs": [],
   "source": [
    "df1 = pd.read_csv('/home/heejung/Dropbox/2019 현대MNS ETA/04. 개발/id_based_parsing/id_{}.csv'.format(IDs[30]))"
   ]
  },
  {
   "cell_type": "code",
   "execution_count": 6,
   "metadata": {},
   "outputs": [],
   "source": [
    "df2 = df1.loc[0]"
   ]
  },
  {
   "cell_type": "code",
   "execution_count": 7,
   "metadata": {},
   "outputs": [
    {
     "name": "stderr",
     "output_type": "stream",
     "text": [
      "/home/heejung/.local/lib/python3.6/site-packages/ipykernel_launcher.py:1: SettingWithCopyWarning: \n",
      "A value is trying to be set on a copy of a slice from a DataFrame\n",
      "\n",
      "See the caveats in the documentation: http://pandas.pydata.org/pandas-docs/stable/indexing.html#indexing-view-versus-copy\n",
      "  \"\"\"Entry point for launching an IPython kernel.\n",
      "/home/heejung/.local/lib/python3.6/site-packages/pandas/core/series.py:1015: SettingWithCopyWarning: \n",
      "A value is trying to be set on a copy of a slice from a DataFrame\n",
      "\n",
      "See the caveats in the documentation: http://pandas.pydata.org/pandas-docs/stable/indexing.html#indexing-view-versus-copy\n",
      "  self.loc[key] = value\n"
     ]
    }
   ],
   "source": [
    "df2['lngs'] = df1['lon'].values"
   ]
  },
  {
   "cell_type": "code",
   "execution_count": 8,
   "metadata": {},
   "outputs": [
    {
     "name": "stderr",
     "output_type": "stream",
     "text": [
      "/home/heejung/.local/lib/python3.6/site-packages/ipykernel_launcher.py:1: SettingWithCopyWarning: \n",
      "A value is trying to be set on a copy of a slice from a DataFrame\n",
      "\n",
      "See the caveats in the documentation: http://pandas.pydata.org/pandas-docs/stable/indexing.html#indexing-view-versus-copy\n",
      "  \"\"\"Entry point for launching an IPython kernel.\n"
     ]
    }
   ],
   "source": [
    "df2['lats'] = df1['lat'].values"
   ]
  },
  {
   "cell_type": "code",
   "execution_count": 9,
   "metadata": {
    "scrolled": true
   },
   "outputs": [
    {
     "name": "stderr",
     "output_type": "stream",
     "text": [
      "/home/heejung/.local/lib/python3.6/site-packages/ipykernel_launcher.py:3: SettingWithCopyWarning: \n",
      "A value is trying to be set on a copy of a slice from a DataFrame\n",
      "\n",
      "See the caveats in the documentation: http://pandas.pydata.org/pandas-docs/stable/indexing.html#indexing-view-versus-copy\n",
      "  This is separate from the ipykernel package so we can avoid doing imports until\n",
      "/home/heejung/.local/lib/python3.6/site-packages/ipykernel_launcher.py:4: SettingWithCopyWarning: \n",
      "A value is trying to be set on a copy of a slice from a DataFrame\n",
      "\n",
      "See the caveats in the documentation: http://pandas.pydata.org/pandas-docs/stable/indexing.html#indexing-view-versus-copy\n",
      "  after removing the cwd from sys.path.\n"
     ]
    }
   ],
   "source": [
    "tot_time = df1.loc[df1.index[-1], 'track_sum_travel_time']\n",
    "tot_dist = df1.loc[df1.index[-1], 'sum_len']\n",
    "df2['time'] = tot_time / 10\n",
    "df2['dist'] = tot_dist / 10000"
   ]
  },
  {
   "cell_type": "code",
   "execution_count": 10,
   "metadata": {},
   "outputs": [],
   "source": [
    "time = df1.loc[0, 'track_in_time']\n",
    "date = df1.loc[0, \"track_in_date\"]\n",
    "test = str(date) + str('%6d' %time)\n",
    "test = test.replace(' ', '0')"
   ]
  },
  {
   "cell_type": "code",
   "execution_count": 11,
   "metadata": {},
   "outputs": [
    {
     "name": "stderr",
     "output_type": "stream",
     "text": [
      "/home/heejung/.local/lib/python3.6/site-packages/ipykernel_launcher.py:3: SettingWithCopyWarning: \n",
      "A value is trying to be set on a copy of a slice from a DataFrame\n",
      "\n",
      "See the caveats in the documentation: http://pandas.pydata.org/pandas-docs/stable/indexing.html#indexing-view-versus-copy\n",
      "  This is separate from the ipykernel package so we can avoid doing imports until\n",
      "/home/heejung/.local/lib/python3.6/site-packages/ipykernel_launcher.py:4: SettingWithCopyWarning: \n",
      "A value is trying to be set on a copy of a slice from a DataFrame\n",
      "\n",
      "See the caveats in the documentation: http://pandas.pydata.org/pandas-docs/stable/indexing.html#indexing-view-versus-copy\n",
      "  after removing the cwd from sys.path.\n",
      "/home/heejung/.local/lib/python3.6/site-packages/ipykernel_launcher.py:6: SettingWithCopyWarning: \n",
      "A value is trying to be set on a copy of a slice from a DataFrame\n",
      "\n",
      "See the caveats in the documentation: http://pandas.pydata.org/pandas-docs/stable/indexing.html#indexing-view-versus-copy\n",
      "  \n"
     ]
    }
   ],
   "source": [
    "test = pd.to_datetime(test)\n",
    "weekID = test.weekday()\n",
    "df2['weekID'] = weekID\n",
    "df2['dateID'] = test.day\n",
    "timeID = (test.hour * 60) + (test.minute) + int(test.second / 60)\n",
    "df2['timeID'] = timeID"
   ]
  },
  {
   "cell_type": "code",
   "execution_count": 12,
   "metadata": {},
   "outputs": [],
   "source": [
    "df2 = df2.rename({'od_id': 'driverID'})"
   ]
  },
  {
   "cell_type": "code",
   "execution_count": 13,
   "metadata": {},
   "outputs": [],
   "source": [
    "driver =df2['driverID']\n",
    "driver = driver.replace('B', '')\n",
    "driver = driver[12:]\n",
    "df2['driverID'] = int(driver)"
   ]
  },
  {
   "cell_type": "code",
   "execution_count": 14,
   "metadata": {},
   "outputs": [],
   "source": [
    "distgap = (df1['sum_len'] - df1['flink_len'])/10000"
   ]
  },
  {
   "cell_type": "code",
   "execution_count": 15,
   "metadata": {},
   "outputs": [],
   "source": [
    "dist = []\n",
    "for i in range(len(df1['lon'])):\n",
    "    if(i < len(df1['lon']) - 1):\n",
    "        dist.append(haversine((df1.loc[i,'lon'], df1.loc[i, 'lat']), (df1.loc[i+1, 'lon'], df1.loc[i+1, 'lat'])))\n",
    "dist = pd.Series(dist)\n",
    "flink_index = np.array(df1.index[df1['index'] == 0])\n",
    "lis = np.array(df1.index)\n",
    "idx_del = np.delete(lis, flink_index)\n",
    "for i in idx_del:\n",
    "    distgap[i] = distgap[i-1] +dist[i-1]"
   ]
  },
  {
   "cell_type": "code",
   "execution_count": 16,
   "metadata": {},
   "outputs": [],
   "source": [
    "hour = (df1['point_in_time'] / 10000).astype(int)\n",
    "minute = (df1['point_in_time'] / 100).astype(int) - hour*100\n",
    "second = df1['point_in_time'].astype(int) - minute*100 - hour*10000\n",
    "timegap = hour*60*60 + minute*60 +second\n",
    "timegap = timegap - timegap[0]"
   ]
  },
  {
   "cell_type": "code",
   "execution_count": 17,
   "metadata": {},
   "outputs": [],
   "source": [
    "df2['time_gap'] = timegap.values\n",
    "df2['dist_gap'] = distgap.values\n",
    "states = [1.0]*len(df2['lngs'])\n",
    "df2['states']=states"
   ]
  },
  {
   "cell_type": "code",
   "execution_count": 18,
   "metadata": {},
   "outputs": [],
   "source": [
    "df2 = df2.drop(['Unnamed: 0', 'lon', 'lat', 'index', 'point_in_time','seq', 'flink', 'tlink', 'turn', 'flink_len', 'sum_len', 'facil', 'road_type', 'link_type','light', 'lane', 'outlink_cnt', 'zone', 'track_in_stamp', 'track_in_date', 'track_in_time', 'track_speed', 'track_travel_time', 'track_sum_travel_time', 'static_spd', 'hq_speed', 'ol_rot_spd', 'ol_spd', 'svc_name'])"
   ]
  },
  {
   "cell_type": "code",
   "execution_count": 19,
   "metadata": {},
   "outputs": [],
   "source": [
    "df2['lngs'] = df2['lngs'][::10]\n",
    "df2['lats'] = df2['lats'][::10]\n",
    "df2['time_gap'] = df2['time_gap'][::10]\n",
    "df2['dist_gap'] = df2['dist_gap'][::10]\n",
    "df2['states'] = df2['states'][::10]"
   ]
  },
  {
   "cell_type": "code",
   "execution_count": 20,
   "metadata": {},
   "outputs": [
    {
     "data": {
      "text/plain": [
       "driverID                                                 3727\n",
       "lngs        [127.03730555555559, 127.03841666666668, 127.0...\n",
       "lats        [37.485, 37.48516666666666, 37.485333333333344...\n",
       "time                                                   1220.9\n",
       "dist                                                    6.313\n",
       "weekID                                                      3\n",
       "dateID                                                     25\n",
       "timeID                                                   1273\n",
       "time_gap    [0, 9, 19, 153, 165, 180, 211, 222, 237, 265, ...\n",
       "dist_gap    [0.0, 0.10177996095529732, 0.21777996516501583...\n",
       "states      [1.0, 1.0, 1.0, 1.0, 1.0, 1.0, 1.0, 1.0, 1.0, ...\n",
       "Name: 0, dtype: object"
      ]
     },
     "execution_count": 20,
     "metadata": {},
     "output_type": "execute_result"
    }
   ],
   "source": [
    "df2"
   ]
  },
  {
   "cell_type": "code",
   "execution_count": 21,
   "metadata": {},
   "outputs": [],
   "source": [
    "df2.to_json('data.txt')"
   ]
  },
  {
   "cell_type": "code",
   "execution_count": 22,
   "metadata": {},
   "outputs": [
    {
     "data": {
      "text/plain": [
       "50"
      ]
     },
     "execution_count": 22,
     "metadata": {},
     "output_type": "execute_result"
    }
   ],
   "source": [
    "len(df2['lngs'])"
   ]
  },
  {
   "cell_type": "code",
   "execution_count": null,
   "metadata": {},
   "outputs": [],
   "source": []
  }
 ],
 "metadata": {
  "kernelspec": {
   "display_name": "Python 3",
   "language": "python",
   "name": "python3"
  },
  "language_info": {
   "codemirror_mode": {
    "name": "ipython",
    "version": 3
   },
   "file_extension": ".py",
   "mimetype": "text/x-python",
   "name": "python",
   "nbconvert_exporter": "python",
   "pygments_lexer": "ipython3",
   "version": "3.6.7"
  }
 },
 "nbformat": 4,
 "nbformat_minor": 2
}
